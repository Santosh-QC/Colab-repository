{
  "nbformat": 4,
  "nbformat_minor": 0,
  "metadata": {
    "colab": {
      "provenance": [],
      "collapsed_sections": [],
      "toc_visible": true,
      "authorship_tag": "ABX9TyNG4GhM7pzwUQ3XqN7AjRQm",
      "include_colab_link": true
    },
    "kernelspec": {
      "name": "python3",
      "display_name": "Python 3"
    },
    "language_info": {
      "name": "python"
    }
  },
  "cells": [
    {
      "cell_type": "markdown",
      "metadata": {
        "id": "view-in-github",
        "colab_type": "text"
      },
      "source": [
        "<a href=\"https://colab.research.google.com/github/Santosh-QC/Colab-repository/blob/main/python_misc.ipynb\" target=\"_parent\"><img src=\"https://colab.research.google.com/assets/colab-badge.svg\" alt=\"Open In Colab\"/></a>"
      ]
    },
    {
      "cell_type": "markdown",
      "source": [
        "# Destructuring syntax"
      ],
      "metadata": {
        "id": "vzxxAFh4gC3v"
      }
    },
    {
      "cell_type": "code",
      "source": [
        "season = [('jan', 'cold'), ('feb', 'cold'), ('march', 'spring'), ('apr', 'hot'), ('may','hot'), ('june','hot')]\n",
        "for k,v in season:\n",
        "  print(f\"it's {k} and it's {v}\")"
      ],
      "metadata": {
        "colab": {
          "base_uri": "https://localhost:8080/"
        },
        "id": "bynwmnMHgVdb",
        "outputId": "f438b303-e28f-4563-df25-176da7c012ea"
      },
      "execution_count": 3,
      "outputs": [
        {
          "output_type": "stream",
          "name": "stdout",
          "text": [
            "it's jan and it's cold\n",
            "it's feb and it's cold\n",
            "it's march and it's spring\n",
            "it's apr and it's hot\n",
            "it's may and it's hot\n",
            "it's june and it's hot\n"
          ]
        }
      ]
    },
    {
      "cell_type": "markdown",
      "source": [
        "# List comprehension"
      ],
      "metadata": {
        "id": "VCIXDMX0knAU"
      }
    },
    {
      "cell_type": "code",
      "source": [
        "friends = ['ram', 'andy', 'mat', 'pitbulla', 'rosicky']\n",
        "guests = ['RAM', 'MAT', 'SHyam', 'DHONI']\n",
        "\n",
        "friend_list = [people for people in guests if people.lower() in friends]\n",
        "print(friend_list)"
      ],
      "metadata": {
        "colab": {
          "base_uri": "https://localhost:8080/"
        },
        "id": "_ojK3J3Vkq7z",
        "outputId": "3125024c-a173-4964-8c4d-fa51c0d5c2be"
      },
      "execution_count": 21,
      "outputs": [
        {
          "output_type": "stream",
          "name": "stdout",
          "text": [
            "['RAM', 'MAT']\n"
          ]
        }
      ]
    },
    {
      "cell_type": "markdown",
      "source": [
        "# Set and Dictionary comprehension"
      ],
      "metadata": {
        "id": "qmcuOVQEqHwe"
      }
    },
    {
      "cell_type": "code",
      "source": [
        "friends = ['ram', 'andy', 'mat', 'pitbulla', 'rosicky']\n",
        "guests = ['RAM', 'MAT', 'SHyam', 'DHONI']\n",
        "\n",
        "friends_lower = {f.lower() for f in friends}\n",
        "guests_lower = {g.lower() for g in guests}\n",
        "\n",
        "present_friends = guests_lower.intersection(friends_lower)\n",
        "present_friends = {friend.title() for friend in present_friends}\n",
        "\n",
        "print(present_friends)\n",
        "\n"
      ],
      "metadata": {
        "colab": {
          "base_uri": "https://localhost:8080/"
        },
        "id": "yV_ETEfmstcr",
        "outputId": "b5262daf-59a7-408d-cfe6-dacd7bbdc590"
      },
      "execution_count": 23,
      "outputs": [
        {
          "output_type": "stream",
          "name": "stdout",
          "text": [
            "{'Mat', 'Ram'}\n"
          ]
        }
      ]
    }
  ]
}