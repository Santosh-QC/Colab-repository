{
  "nbformat": 4,
  "nbformat_minor": 0,
  "metadata": {
    "colab": {
      "provenance": [],
      "collapsed_sections": [],
      "toc_visible": true,
      "authorship_tag": "ABX9TyOVBDj9xXdsfDXfCDOwPtCF",
      "include_colab_link": true
    },
    "kernelspec": {
      "name": "python3",
      "display_name": "Python 3"
    },
    "language_info": {
      "name": "python"
    }
  },
  "cells": [
    {
      "cell_type": "markdown",
      "metadata": {
        "id": "view-in-github",
        "colab_type": "text"
      },
      "source": [
        "<a href=\"https://colab.research.google.com/github/Santosh-QC/Colab-repository/blob/main/python_misc.ipynb\" target=\"_parent\"><img src=\"https://colab.research.google.com/assets/colab-badge.svg\" alt=\"Open In Colab\"/></a>"
      ]
    },
    {
      "cell_type": "markdown",
      "source": [
        "# Destructuring syntax"
      ],
      "metadata": {
        "id": "vzxxAFh4gC3v"
      }
    },
    {
      "cell_type": "code",
      "source": [
        "season = [('jan', 'cold'), ('feb', 'cold'), ('march', 'spring'), ('apr', 'hot'), ('may','hot'), ('june','hot')]\n",
        "for k,v in season:\n",
        "  print(f\"it's {k} and it's {v}\")"
      ],
      "metadata": {
        "colab": {
          "base_uri": "https://localhost:8080/"
        },
        "id": "bynwmnMHgVdb",
        "outputId": "f438b303-e28f-4563-df25-176da7c012ea"
      },
      "execution_count": 3,
      "outputs": [
        {
          "output_type": "stream",
          "name": "stdout",
          "text": [
            "it's jan and it's cold\n",
            "it's feb and it's cold\n",
            "it's march and it's spring\n",
            "it's apr and it's hot\n",
            "it's may and it's hot\n",
            "it's june and it's hot\n"
          ]
        }
      ]
    }
  ]
}