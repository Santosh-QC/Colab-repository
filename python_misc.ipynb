{
  "nbformat": 4,
  "nbformat_minor": 0,
  "metadata": {
    "colab": {
      "provenance": [],
      "collapsed_sections": [],
      "toc_visible": true,
      "authorship_tag": "ABX9TyPW/gRDt/eEhP/8xWYQz31E",
      "include_colab_link": true
    },
    "kernelspec": {
      "name": "python3",
      "display_name": "Python 3"
    },
    "language_info": {
      "name": "python"
    }
  },
  "cells": [
    {
      "cell_type": "markdown",
      "metadata": {
        "id": "view-in-github",
        "colab_type": "text"
      },
      "source": [
        "<a href=\"https://colab.research.google.com/github/Santosh-QC/Colab-repository/blob/main/python_misc.ipynb\" target=\"_parent\"><img src=\"https://colab.research.google.com/assets/colab-badge.svg\" alt=\"Open In Colab\"/></a>"
      ]
    },
    {
      "cell_type": "markdown",
      "source": [
        "# Destructuring syntax"
      ],
      "metadata": {
        "id": "vzxxAFh4gC3v"
      }
    },
    {
      "cell_type": "code",
      "source": [
        "season = [('jan', 'cold'), ('feb', 'cold'), ('march', 'spring'), ('apr', 'hot'), ('may','hot'), ('june','hot')]\n",
        "for k,v in season:\n",
        "  print(f\"it's {k} and it's {v}\")"
      ],
      "metadata": {
        "colab": {
          "base_uri": "https://localhost:8080/"
        },
        "id": "bynwmnMHgVdb",
        "outputId": "f438b303-e28f-4563-df25-176da7c012ea"
      },
      "execution_count": 3,
      "outputs": [
        {
          "output_type": "stream",
          "name": "stdout",
          "text": [
            "it's jan and it's cold\n",
            "it's feb and it's cold\n",
            "it's march and it's spring\n",
            "it's apr and it's hot\n",
            "it's may and it's hot\n",
            "it's june and it's hot\n"
          ]
        }
      ]
    },
    {
      "cell_type": "markdown",
      "source": [
        "# List comprehension"
      ],
      "metadata": {
        "id": "VCIXDMX0knAU"
      }
    },
    {
      "cell_type": "code",
      "source": [
        "friends = ['ram', 'andy', 'mat', 'pitbulla', 'rosicky']\n",
        "guests = ['RAM', 'MAT', 'SHyam', 'DHONI']\n",
        "\n",
        "friend_list = [people for people in guests if people.lower() in friends]\n",
        "print(friend_list)"
      ],
      "metadata": {
        "colab": {
          "base_uri": "https://localhost:8080/"
        },
        "id": "_ojK3J3Vkq7z",
        "outputId": "3125024c-a173-4964-8c4d-fa51c0d5c2be"
      },
      "execution_count": 21,
      "outputs": [
        {
          "output_type": "stream",
          "name": "stdout",
          "text": [
            "['RAM', 'MAT']\n"
          ]
        }
      ]
    },
    {
      "cell_type": "markdown",
      "source": [
        "# Set and Dictionary comprehension"
      ],
      "metadata": {
        "id": "qmcuOVQEqHwe"
      }
    },
    {
      "cell_type": "code",
      "source": [
        "friends = ['ram', 'andy', 'mat', 'pitbulla', 'rosicky']\n",
        "guests = ['RAM', 'MAT', 'SHyam', 'DHONI']\n",
        "\n",
        "friends_lower = {f.lower() for f in friends}\n",
        "guests_lower = {g.lower() for g in guests}\n",
        "\n",
        "present_friends = guests_lower.intersection(friends_lower)\n",
        "present_friends = {friend.title() for friend in present_friends}\n",
        "\n",
        "print(present_friends)\n",
        "\n"
      ],
      "metadata": {
        "colab": {
          "base_uri": "https://localhost:8080/"
        },
        "id": "yV_ETEfmstcr",
        "outputId": "b5262daf-59a7-408d-cfe6-dacd7bbdc590"
      },
      "execution_count": 23,
      "outputs": [
        {
          "output_type": "stream",
          "name": "stdout",
          "text": [
            "{'Mat', 'Ram'}\n"
          ]
        }
      ]
    },
    {
      "cell_type": "code",
      "source": [
        "friends = ['ram', 'andy', 'mat', 'pitbulla', 'rosicky']\n",
        "years = [1,10,12,10,5]\n",
        "\n",
        "timers = {friends[i]:years[i] for i in range(len(friends))}\n",
        "print(timers)\n",
        "\n",
        "\n"
      ],
      "metadata": {
        "colab": {
          "base_uri": "https://localhost:8080/"
        },
        "id": "TbxI0JjPu5p0",
        "outputId": "3146eb58-a086-466a-9999-0fdd9186ea3d"
      },
      "execution_count": 26,
      "outputs": [
        {
          "output_type": "stream",
          "name": "stdout",
          "text": [
            "{'ram': 1, 'andy': 10, 'mat': 12, 'pitbulla': 10, 'rosicky': 5}\n"
          ]
        }
      ]
    },
    {
      "cell_type": "markdown",
      "source": [
        "# Zip"
      ],
      "metadata": {
        "id": "Y9dY4CbJww1A"
      }
    },
    {
      "cell_type": "code",
      "source": [
        "friends = ['ram', 'andy', 'mat', 'pitbulla', 'rosicky']\n",
        "years = [1,10,12,10,5]\n",
        "\n",
        "dict_ = dict(zip(friends, years))\n",
        "\n",
        "list_ = list(zip(friends, years))\n",
        "\n",
        "print(dict_)\n",
        "print(list_)"
      ],
      "metadata": {
        "colab": {
          "base_uri": "https://localhost:8080/"
        },
        "id": "AGpSGR2vw0lo",
        "outputId": "2fc6e69f-5c6d-46b8-ece5-979675a93053"
      },
      "execution_count": 29,
      "outputs": [
        {
          "output_type": "stream",
          "name": "stdout",
          "text": [
            "{'ram': 1, 'andy': 10, 'mat': 12, 'pitbulla': 10, 'rosicky': 5}\n",
            "[('ram', 1), ('andy', 10), ('mat', 12), ('pitbulla', 10), ('rosicky', 5)]\n"
          ]
        }
      ]
    },
    {
      "cell_type": "markdown",
      "source": [
        "# Lambda function"
      ],
      "metadata": {
        "id": "3lB0Gy9kx_yE"
      }
    },
    {
      "cell_type": "code",
      "source": [
        "print((lambda x,y: x/y)(5,6))\n",
        "\n",
        "average = (lambda sequence:sum(sequence)/len(sequence))\n",
        "students = [{'name':'Ram','grades':(10,20,30,40,50)},\n",
        "            {'name':'mat','grades':(11,12,13,14,15)},\n",
        "            {'name':'pikolo','grades':(21,22,23,24,25)}\n",
        "]\n",
        "\n",
        "for student in students:\n",
        "  print(f\"average grades of {student['name']} is {average(student['grades'])}\")"
      ],
      "metadata": {
        "colab": {
          "base_uri": "https://localhost:8080/"
        },
        "id": "W8nHu1DVyD2M",
        "outputId": "048dfd5e-a5b1-48c5-d9a4-eff7ed2d0a7d"
      },
      "execution_count": 36,
      "outputs": [
        {
          "output_type": "stream",
          "name": "stdout",
          "text": [
            "0.8333333333333334\n",
            "average grades of Ram is 30.0\n",
            "average grades of mat is 13.0\n",
            "average grades of pikolo is 23.0\n"
          ]
        }
      ]
    }
  ]
}