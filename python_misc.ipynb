{
  "nbformat": 4,
  "nbformat_minor": 0,
  "metadata": {
    "colab": {
      "provenance": [],
      "collapsed_sections": [],
      "toc_visible": true,
      "authorship_tag": "ABX9TyMhldfp/YAwYyZGGFfwA8o0",
      "include_colab_link": true
    },
    "kernelspec": {
      "name": "python3",
      "display_name": "Python 3"
    },
    "language_info": {
      "name": "python"
    }
  },
  "cells": [
    {
      "cell_type": "markdown",
      "metadata": {
        "id": "view-in-github",
        "colab_type": "text"
      },
      "source": [
        "<a href=\"https://colab.research.google.com/github/Santosh-QC/Colab-repository/blob/main/python_misc.ipynb\" target=\"_parent\"><img src=\"https://colab.research.google.com/assets/colab-badge.svg\" alt=\"Open In Colab\"/></a>"
      ]
    },
    {
      "cell_type": "markdown",
      "source": [
        "# Destructuring syntax"
      ],
      "metadata": {
        "id": "vzxxAFh4gC3v"
      }
    },
    {
      "cell_type": "code",
      "source": [
        "season = [('jan', 'cold'), ('feb', 'cold'), ('march', 'spring'), ('apr', 'hot'), ('may','hot'), ('june','hot')]\n",
        "for k,v in season:\n",
        "  print(f\"it's {k} and it's {v}\")"
      ],
      "metadata": {
        "colab": {
          "base_uri": "https://localhost:8080/"
        },
        "id": "bynwmnMHgVdb",
        "outputId": "f438b303-e28f-4563-df25-176da7c012ea"
      },
      "execution_count": null,
      "outputs": [
        {
          "output_type": "stream",
          "name": "stdout",
          "text": [
            "it's jan and it's cold\n",
            "it's feb and it's cold\n",
            "it's march and it's spring\n",
            "it's apr and it's hot\n",
            "it's may and it's hot\n",
            "it's june and it's hot\n"
          ]
        }
      ]
    },
    {
      "cell_type": "markdown",
      "source": [
        "# List comprehension"
      ],
      "metadata": {
        "id": "VCIXDMX0knAU"
      }
    },
    {
      "cell_type": "code",
      "source": [
        "friends = ['ram', 'andy', 'mat', 'pitbulla', 'rosicky']\n",
        "guests = ['RAM', 'MAT', 'SHyam', 'DHONI']\n",
        "\n",
        "friend_list = [people for people in guests if people.lower() in friends]\n",
        "print(friend_list)\n",
        "\n",
        "[(x, y) for x in [1,2,3] for y in [3,1,4] if x != y]"
      ],
      "metadata": {
        "colab": {
          "base_uri": "https://localhost:8080/"
        },
        "id": "_ojK3J3Vkq7z",
        "outputId": "a083c20b-f966-4912-eabc-85b45db5e857"
      },
      "execution_count": 6,
      "outputs": [
        {
          "output_type": "stream",
          "name": "stdout",
          "text": [
            "['RAM', 'MAT']\n"
          ]
        },
        {
          "output_type": "execute_result",
          "data": {
            "text/plain": [
              "[(1, 3), (1, 4), (2, 3), (2, 1), (2, 4), (3, 1), (3, 4)]"
            ]
          },
          "metadata": {},
          "execution_count": 6
        }
      ]
    },
    {
      "cell_type": "markdown",
      "source": [
        "# Set and Dictionary comprehension"
      ],
      "metadata": {
        "id": "qmcuOVQEqHwe"
      }
    },
    {
      "cell_type": "code",
      "source": [
        "friends = ['ram', 'andy', 'mat', 'pitbulla', 'rosicky']\n",
        "guests = ['RAM', 'MAT', 'SHyam', 'DHONI']\n",
        "\n",
        "friends_lower = {f.lower() for f in friends}\n",
        "guests_lower = {g.lower() for g in guests}\n",
        "\n",
        "present_friends = guests_lower.intersection(friends_lower)\n",
        "present_friends = {friend.title() for friend in present_friends}\n",
        "\n",
        "print(present_friends)\n",
        "\n"
      ],
      "metadata": {
        "colab": {
          "base_uri": "https://localhost:8080/"
        },
        "id": "yV_ETEfmstcr",
        "outputId": "b5262daf-59a7-408d-cfe6-dacd7bbdc590"
      },
      "execution_count": null,
      "outputs": [
        {
          "output_type": "stream",
          "name": "stdout",
          "text": [
            "{'Mat', 'Ram'}\n"
          ]
        }
      ]
    },
    {
      "cell_type": "code",
      "source": [
        "friends = ['ram', 'andy', 'mat', 'pitbulla', 'rosicky']\n",
        "years = [1,10,12,10,5]\n",
        "\n",
        "timers = {friends[i]:years[i] for i in range(len(friends))}\n",
        "print(timers)\n",
        "\n",
        "\n"
      ],
      "metadata": {
        "colab": {
          "base_uri": "https://localhost:8080/"
        },
        "id": "TbxI0JjPu5p0",
        "outputId": "3146eb58-a086-466a-9999-0fdd9186ea3d"
      },
      "execution_count": null,
      "outputs": [
        {
          "output_type": "stream",
          "name": "stdout",
          "text": [
            "{'ram': 1, 'andy': 10, 'mat': 12, 'pitbulla': 10, 'rosicky': 5}\n"
          ]
        }
      ]
    },
    {
      "cell_type": "markdown",
      "source": [
        "# Zip"
      ],
      "metadata": {
        "id": "Y9dY4CbJww1A"
      }
    },
    {
      "cell_type": "code",
      "source": [
        "friends = ['ram', 'andy', 'mat', 'pitbulla', 'rosicky']\n",
        "years = [1,10,12,10,5]\n",
        "\n",
        "dict_ = dict(zip(friends, years))\n",
        "\n",
        "list_ = list(zip(friends, years))\n",
        "\n",
        "print(dict_)\n",
        "print(list_)"
      ],
      "metadata": {
        "colab": {
          "base_uri": "https://localhost:8080/"
        },
        "id": "AGpSGR2vw0lo",
        "outputId": "2fc6e69f-5c6d-46b8-ece5-979675a93053"
      },
      "execution_count": null,
      "outputs": [
        {
          "output_type": "stream",
          "name": "stdout",
          "text": [
            "{'ram': 1, 'andy': 10, 'mat': 12, 'pitbulla': 10, 'rosicky': 5}\n",
            "[('ram', 1), ('andy', 10), ('mat', 12), ('pitbulla', 10), ('rosicky', 5)]\n"
          ]
        }
      ]
    },
    {
      "cell_type": "markdown",
      "source": [
        "# Lambda function"
      ],
      "metadata": {
        "id": "3lB0Gy9kx_yE"
      }
    },
    {
      "cell_type": "code",
      "source": [
        "print((lambda x,y: x/y)(5,6))\n",
        "\n",
        "average = (lambda sequence:sum(sequence)/len(sequence))\n",
        "students = [{'name':'Ram','grades':(10,20,30,40,50)},\n",
        "            {'name':'mat','grades':(11,12,13,14,15)},\n",
        "            {'name':'pikolo','grades':(21,22,23,24,25)}\n",
        "]\n",
        "\n",
        "for student in students:\n",
        "  print(f\"average grades of {student['name']} is {average(student['grades'])}\")"
      ],
      "metadata": {
        "colab": {
          "base_uri": "https://localhost:8080/"
        },
        "id": "W8nHu1DVyD2M",
        "outputId": "048dfd5e-a5b1-48c5-d9a4-eff7ed2d0a7d"
      },
      "execution_count": null,
      "outputs": [
        {
          "output_type": "stream",
          "name": "stdout",
          "text": [
            "0.8333333333333334\n",
            "average grades of Ram is 30.0\n",
            "average grades of mat is 13.0\n",
            "average grades of pikolo is 23.0\n"
          ]
        }
      ]
    },
    {
      "cell_type": "markdown",
      "source": [
        "#Magic Methods"
      ],
      "metadata": {
        "id": "k24kYVCaLKoz"
      }
    },
    {
      "cell_type": "code",
      "source": [
        "class movies:\n",
        "  def __init__(self, name=None):\n",
        "    self.name = name\n",
        "    self.genre = []\n",
        "\n",
        "  def __len__(self):\n",
        "    return len(self.genre)\n",
        "\n",
        "  def __getitem__(self, i):\n",
        "    return self.genre[i]\n",
        "\n",
        "  def __repr__(self):\n",
        "    return f'Movies {self.name}'\n",
        "\n",
        "  def __str__(self):\n",
        "    return f'Movies : {len(self)}'\n",
        "\n",
        "movies_names = movies()\n",
        "movies_names.genre.append('Action')\n",
        "movies_names.name='Rambo'\n",
        "print(f\"{movies_names.name} is an {movies_names.genre[0]} movie.\")\n",
        "print(len(movies_names))\n",
        "print(movies_names[0])\n",
        "\n",
        "print(movies_names.__repr__())\n",
        "print(movies_names.__str__())"
      ],
      "metadata": {
        "colab": {
          "base_uri": "https://localhost:8080/"
        },
        "id": "8vuHuMD1LP0k",
        "outputId": "1617a6f9-7268-411e-9d39-17f6d6869ed1"
      },
      "execution_count": null,
      "outputs": [
        {
          "output_type": "stream",
          "name": "stdout",
          "text": [
            "Rambo is an Action movie.\n",
            "1\n",
            "Action\n",
            "Movies Rambo\n",
            "Movies : 1\n"
          ]
        }
      ]
    },
    {
      "cell_type": "markdown",
      "source": [
        "# Inheritance \n",
        "# @property Decorator"
      ],
      "metadata": {
        "id": "LckUbHJ6hJG1"
      }
    },
    {
      "cell_type": "code",
      "source": [
        "class student:\n",
        "  def __init__(self, name, school):\n",
        "    self.name = name\n",
        "    self.school = school\n",
        "    self.marks = []\n",
        "\n",
        "  def average(self):\n",
        "    return sum(self.marks)/ len(self.marks)\n",
        "\n",
        "class WorkingStudent(student):\n",
        "  def __init__(self, name, school, salary):\n",
        "    super().__init__(name, school)\n",
        "    self.salary = salary\n",
        "\n",
        "  @property\n",
        "  def weekly_salary(self):\n",
        "    return int(self.salary / 37.5)\n",
        "\n",
        "sam = WorkingStudent('sam', 'MIT', 16000)\n",
        "print(f\"{sam.name} salary is {sam.salary} and weekly salary is {sam.weekly_salary} USD.\")\n",
        "sam.marks.append(60)\n",
        "sam.marks.append(100)\n",
        "print(f\"{sam.name} marks average is {sam.average()}.\")\n",
        "    "
      ],
      "metadata": {
        "colab": {
          "base_uri": "https://localhost:8080/"
        },
        "id": "5TjCI5b3hMQG",
        "outputId": "af7fb738-3f05-4fc9-ac16-ba74065a0385"
      },
      "execution_count": null,
      "outputs": [
        {
          "output_type": "stream",
          "name": "stdout",
          "text": [
            "sam salary is 16000 and weekly salary is 426 USD.\n",
            "sam marks average is 80.0.\n"
          ]
        }
      ]
    },
    {
      "cell_type": "markdown",
      "source": [
        "# @ClassMethod\n",
        "# @StaticMethod"
      ],
      "metadata": {
        "id": "OOvcqzaBqrix"
      }
    },
    {
      "cell_type": "code",
      "source": [
        "class Foo:\n",
        "  @classmethod\n",
        "  def hi(cls):\n",
        "    print(cls.__name__)\n",
        "\n",
        "obj = Foo()\n",
        "obj.hi()\n"
      ],
      "metadata": {
        "colab": {
          "base_uri": "https://localhost:8080/"
        },
        "id": "N0I5A019q3oC",
        "outputId": "269a4e7b-e542-4755-e5a5-907e83ef9fd4"
      },
      "execution_count": null,
      "outputs": [
        {
          "output_type": "stream",
          "name": "stdout",
          "text": [
            "Foo\n"
          ]
        }
      ]
    },
    {
      "cell_type": "code",
      "source": [
        "class Bar:\n",
        "  @staticmethod\n",
        "  def text():\n",
        "    print('this function doesn\\'t take paramaters')\n",
        "\n",
        "obj1 = Bar()\n",
        "obj1.text()"
      ],
      "metadata": {
        "colab": {
          "base_uri": "https://localhost:8080/"
        },
        "id": "jxPduhirrPQ7",
        "outputId": "c12563dc-95b7-48e8-eb25-9ab4a9b9c983"
      },
      "execution_count": null,
      "outputs": [
        {
          "output_type": "stream",
          "name": "stdout",
          "text": [
            "this function doesn't take paramaters\n"
          ]
        }
      ]
    },
    {
      "cell_type": "code",
      "source": [
        "class Fixedfloat:\n",
        "  def __init__(self, amount):\n",
        "    self.amount = amount\n",
        "\n",
        "  def __repr__(self):\n",
        "    return f\"fixed float {self.amount:.2f}\"\n",
        "\n",
        "  @classmethod\n",
        "  def from_sum(cls, value1, value2):\n",
        "    return cls(value1 + value2)\n",
        "\n",
        "new = Fixedfloat.from_sum(50, 50)\n",
        "print(new)\n",
        "\n",
        "class dollar(Fixedfloat):\n",
        "  def __init__(self, amount):\n",
        "    super().__init__(amount)\n",
        "    self.symbol = '$'\n",
        "\n",
        "  def __repr__(self):\n",
        "    return f\"dollar {self.symbol} {self.amount:.2f}\"\n",
        "\n",
        "usd = dollar.from_sum(60, 100)\n",
        "print(usd)"
      ],
      "metadata": {
        "colab": {
          "base_uri": "https://localhost:8080/"
        },
        "id": "A4tcOo0Ru403",
        "outputId": "9591ad40-1644-4b7a-cbd7-294774f39fda"
      },
      "execution_count": null,
      "outputs": [
        {
          "output_type": "stream",
          "name": "stdout",
          "text": [
            "fixed float 100.00\n",
            "dollar $ 160.00\n"
          ]
        }
      ]
    },
    {
      "cell_type": "markdown",
      "source": [
        "# Context Managers\n",
        "File Operations"
      ],
      "metadata": {
        "id": "XtLoebk--ZCQ"
      }
    },
    {
      "cell_type": "code",
      "source": [
        "def save_to_file(content, filename):\n",
        "  with open(filename, 'w') as file:\n",
        "    file.write(content)\n",
        "\n",
        "def read_file(filename):\n",
        "  with open(filename, 'r') as file:\n",
        "    return file.read().split('\\n')\n",
        "\n"
      ],
      "metadata": {
        "id": "W_P4Flhp-c4g"
      },
      "execution_count": null,
      "outputs": []
    },
    {
      "cell_type": "markdown",
      "source": [
        "# Typing"
      ],
      "metadata": {
        "id": "W3uMVpjoDYrl"
      }
    },
    {
      "cell_type": "code",
      "source": [
        "from typing import *\n",
        "\n",
        "def testfunc() -> None:\n",
        "  pass\n",
        "\n",
        "def testfunc2() -> List[Dict(str, str)]:\n",
        "  pass\n",
        "#create custom typing\n",
        "customtype = List[Dict(str, str)]\n",
        "\n",
        "def testfunc3() -> customtype:\n",
        "  pass\n",
        "\n",
        "def testfunc4(name: str) -> None:\n",
        "  pass\n",
        "\n",
        "#using with class\n",
        "\n",
        "import sqlite3\n",
        "\n",
        "class databaseconnection:\n",
        "  def __init__(self, host):\n",
        "    self.host = host\n",
        "    self.conenction = None\n",
        "\n",
        "  def __enter__(self) -> sqlite3.Connection:\n",
        "    self.conenction = sqlite3.connect(self.host)\n",
        "    return self.connection\n",
        "\n",
        "  def __exit__(self, exc_type, exc_val, exc_tb):\n",
        "    if exc_type or exc_val or exc_tb:\n",
        "      self.connection.close()\n",
        "    else:\n",
        "      self.connection.commit()\n",
        "      self.connection.close()\n"
      ],
      "metadata": {
        "id": "WtkLKeZyDbu-"
      },
      "execution_count": null,
      "outputs": []
    },
    {
      "cell_type": "markdown",
      "source": [
        "# Generators"
      ],
      "metadata": {
        "id": "ahWGwDTLMwe8"
      }
    },
    {
      "cell_type": "code",
      "source": [
        "def hundered_nums():\n",
        "  i=0\n",
        "  while i < 10:\n",
        "    yield i\n",
        "    i += 0.5\n",
        "  \n",
        "g = hundered_nums()\n",
        "\n",
        "for _ in g:\n",
        "  print(next(g))"
      ],
      "metadata": {
        "colab": {
          "base_uri": "https://localhost:8080/"
        },
        "id": "ul7rDM17M0IT",
        "outputId": "610866f6-9692-4b1e-a0ca-06ea124e9a35"
      },
      "execution_count": null,
      "outputs": [
        {
          "output_type": "stream",
          "name": "stdout",
          "text": [
            "0.5\n",
            "1.5\n",
            "2.5\n",
            "3.5\n",
            "4.5\n",
            "5.5\n",
            "6.5\n",
            "7.5\n",
            "8.5\n",
            "9.5\n"
          ]
        }
      ]
    },
    {
      "cell_type": "markdown",
      "source": [
        "# Generator classes"
      ],
      "metadata": {
        "id": "PsvOiW3SX609"
      }
    },
    {
      "cell_type": "code",
      "source": [
        "class firsthundredgenerator:\n",
        "  def __init__(self):\n",
        "    self.number = 0\n",
        "    \n",
        "  def __next__(self):\n",
        "    if self.number <= 10:\n",
        "      current = self.number\n",
        "      self.number += 1;\n",
        "      return current\n",
        "    else:\n",
        "      raise StopIteration()\n",
        "\n",
        "gen = firsthundredgenerator()\n",
        "for _ in range(10):\n",
        "  print(next(gen))\n",
        "\n"
      ],
      "metadata": {
        "colab": {
          "base_uri": "https://localhost:8080/"
        },
        "id": "Qa8nm6ojX-u9",
        "outputId": "1e0c5aaf-afce-4c90-840a-7e0bdd90cd94"
      },
      "execution_count": null,
      "outputs": [
        {
          "output_type": "stream",
          "name": "stdout",
          "text": [
            "0\n",
            "1\n",
            "2\n",
            "3\n",
            "4\n",
            "5\n",
            "6\n",
            "7\n",
            "8\n",
            "9\n"
          ]
        }
      ]
    },
    {
      "cell_type": "markdown",
      "source": [
        "# Class *iterator*"
      ],
      "metadata": {
        "id": "NkRIft64cOR5"
      }
    },
    {
      "cell_type": "code",
      "source": [
        "class classiterator:\n",
        "  def __init__(self):\n",
        "    self.numbers = [1,2,3,4,5]\n",
        "    self.i = 0\n",
        "\n",
        "  def __next__(self):\n",
        "      if self.i < len(self.numbers):\n",
        "        current = self.numbers[self.i]\n",
        "        self.i += 1\n",
        "        return current\n",
        "      else:\n",
        "        raise StopIteration()\n",
        "\n",
        "citer = classiterator()\n",
        "\n",
        "while citer:\n",
        "  print(next(citer))"
      ],
      "metadata": {
        "colab": {
          "base_uri": "https://localhost:8080/",
          "height": 408
        },
        "id": "5-uL87kucSUK",
        "outputId": "ceb715fe-1346-4160-d709-51a896db5802"
      },
      "execution_count": null,
      "outputs": [
        {
          "output_type": "stream",
          "name": "stdout",
          "text": [
            "1\n",
            "2\n",
            "3\n",
            "4\n",
            "5\n"
          ]
        },
        {
          "output_type": "error",
          "ename": "StopIteration",
          "evalue": "ignored",
          "traceback": [
            "\u001b[0;31m---------------------------------------------------------------------------\u001b[0m",
            "\u001b[0;31mStopIteration\u001b[0m                             Traceback (most recent call last)",
            "\u001b[0;32m<ipython-input-23-894d0ca8cb6b>\u001b[0m in \u001b[0;36m<module>\u001b[0;34m\u001b[0m\n\u001b[1;32m     15\u001b[0m \u001b[0;34m\u001b[0m\u001b[0m\n\u001b[1;32m     16\u001b[0m \u001b[0;32mwhile\u001b[0m \u001b[0mciter\u001b[0m\u001b[0;34m:\u001b[0m\u001b[0;34m\u001b[0m\u001b[0;34m\u001b[0m\u001b[0m\n\u001b[0;32m---> 17\u001b[0;31m   \u001b[0mprint\u001b[0m\u001b[0;34m(\u001b[0m\u001b[0mnext\u001b[0m\u001b[0;34m(\u001b[0m\u001b[0mciter\u001b[0m\u001b[0;34m)\u001b[0m\u001b[0;34m)\u001b[0m\u001b[0;34m\u001b[0m\u001b[0;34m\u001b[0m\u001b[0m\n\u001b[0m",
            "\u001b[0;32m<ipython-input-23-894d0ca8cb6b>\u001b[0m in \u001b[0;36m__next__\u001b[0;34m(self)\u001b[0m\n\u001b[1;32m     10\u001b[0m         \u001b[0;32mreturn\u001b[0m \u001b[0mcurrent\u001b[0m\u001b[0;34m\u001b[0m\u001b[0;34m\u001b[0m\u001b[0m\n\u001b[1;32m     11\u001b[0m       \u001b[0;32melse\u001b[0m\u001b[0;34m:\u001b[0m\u001b[0;34m\u001b[0m\u001b[0;34m\u001b[0m\u001b[0m\n\u001b[0;32m---> 12\u001b[0;31m         \u001b[0;32mraise\u001b[0m \u001b[0mStopIteration\u001b[0m\u001b[0;34m(\u001b[0m\u001b[0;34m)\u001b[0m\u001b[0;34m\u001b[0m\u001b[0;34m\u001b[0m\u001b[0m\n\u001b[0m\u001b[1;32m     13\u001b[0m \u001b[0;34m\u001b[0m\u001b[0m\n\u001b[1;32m     14\u001b[0m \u001b[0mciter\u001b[0m \u001b[0;34m=\u001b[0m \u001b[0mclassiterator\u001b[0m\u001b[0;34m(\u001b[0m\u001b[0;34m)\u001b[0m\u001b[0;34m\u001b[0m\u001b[0;34m\u001b[0m\u001b[0m\n",
            "\u001b[0;31mStopIteration\u001b[0m: "
          ]
        }
      ]
    },
    {
      "cell_type": "markdown",
      "source": [
        "# Iterator"
      ],
      "metadata": {
        "id": "hXNe2-sC0hpC"
      }
    },
    {
      "cell_type": "code",
      "source": [
        "class classiterator:\n",
        "  def __init__(self):\n",
        "    self.number = 0\n",
        "    \n",
        "  def __next__(self):\n",
        "    if self.number <= 10:\n",
        "      current = self.number\n",
        "      self.number += 1;\n",
        "      return current\n",
        "    else:\n",
        "      raise StopIteration()\n",
        "\n",
        "class iterator:\n",
        "  def __iter__(self):\n",
        "    return classiterator()\n",
        "\n",
        "print(f\"sum is : {sum(iterator())}\")\n",
        "for i in iterator():\n",
        "  print(i)"
      ],
      "metadata": {
        "colab": {
          "base_uri": "https://localhost:8080/"
        },
        "id": "4olUUauJ0l2i",
        "outputId": "2905122f-caec-4b14-8457-d14fa451e056"
      },
      "execution_count": null,
      "outputs": [
        {
          "output_type": "stream",
          "name": "stdout",
          "text": [
            "sum is : 55\n",
            "0\n",
            "1\n",
            "2\n",
            "3\n",
            "4\n",
            "5\n",
            "6\n",
            "7\n",
            "8\n",
            "9\n",
            "10\n"
          ]
        }
      ]
    },
    {
      "cell_type": "markdown",
      "source": [
        "# Iterator without class"
      ],
      "metadata": {
        "id": "5Wtq3vekOrn_"
      }
    },
    {
      "cell_type": "code",
      "source": [
        "class classiterator:\n",
        "  def __init__(self):\n",
        "    self.number = 0\n",
        "    \n",
        "  def __next__(self):\n",
        "    if self.number <= 10:\n",
        "      current = self.number\n",
        "      self.number += 1;\n",
        "      return current\n",
        "    else:\n",
        "      raise StopIteration()\n",
        "\n",
        "  def __iter__(self):\n",
        "    return self\n",
        "\n",
        "print(f\"sum is : {sum(classiterator())}\")\n",
        "for i in classiterator():\n",
        "  print(i)"
      ],
      "metadata": {
        "colab": {
          "base_uri": "https://localhost:8080/"
        },
        "id": "FDtesY1lOvUA",
        "outputId": "03a04bc3-4d44-44cc-d8fd-4e897a101ca3"
      },
      "execution_count": null,
      "outputs": [
        {
          "output_type": "stream",
          "name": "stdout",
          "text": [
            "sum is : 55\n",
            "0\n",
            "1\n",
            "2\n",
            "3\n",
            "4\n",
            "5\n",
            "6\n",
            "7\n",
            "8\n",
            "9\n",
            "10\n"
          ]
        }
      ]
    },
    {
      "cell_type": "markdown",
      "source": [
        "# iterable with __len__ and __getitem__ method"
      ],
      "metadata": {
        "id": "5hEesU_lPdri"
      }
    },
    {
      "cell_type": "code",
      "source": [
        "class aniter:\n",
        "  def __init__(self):\n",
        "    self.cars = ['cars', 'bus']\n",
        "  \n",
        "  def __len__(self):\n",
        "    return len(self.cars)\n",
        "\n",
        "  def __getitem__(self, i):\n",
        "    return self.cars[i]\n",
        "\n",
        "for i in aniter():\n",
        "  print(i)"
      ],
      "metadata": {
        "colab": {
          "base_uri": "https://localhost:8080/"
        },
        "id": "RXroXODTQBC1",
        "outputId": "e4594ce3-4133-4b01-dfe1-c1fa5f0635ca"
      },
      "execution_count": null,
      "outputs": [
        {
          "output_type": "stream",
          "name": "stdout",
          "text": [
            "cars\n",
            "bus\n"
          ]
        }
      ]
    },
    {
      "cell_type": "markdown",
      "source": [
        "# Generator comprehension"
      ],
      "metadata": {
        "id": "UMdjk555SGdK"
      }
    },
    {
      "cell_type": "code",
      "source": [
        "generator_comprehension = (x for x in [1,3,4,5,6,7])\n",
        "print(next(generator_comprehension))"
      ],
      "metadata": {
        "colab": {
          "base_uri": "https://localhost:8080/"
        },
        "id": "uHyMnND5Q6VX",
        "outputId": "15803d46-63b0-4099-b3c2-8d7243122190"
      },
      "execution_count": null,
      "outputs": [
        {
          "output_type": "stream",
          "name": "stdout",
          "text": [
            "1\n"
          ]
        }
      ]
    },
    {
      "cell_type": "markdown",
      "source": [
        "# Filter"
      ],
      "metadata": {
        "id": "5F9k55IwVzl4"
      }
    },
    {
      "cell_type": "code",
      "source": [
        "def start_with_r_func(friend):\n",
        "  return friend.startswith('r')\n",
        "\n",
        "\n",
        "friends = ['rolf', 'randy', 'anna', 'mary'] \n",
        "starts_with_r = filter(start_with_r_func, friends) #arg1 = function that returns true of false\n",
        "print(next(starts_with_r))\n",
        "print(list(starts_with_r))"
      ],
      "metadata": {
        "colab": {
          "base_uri": "https://localhost:8080/"
        },
        "id": "ZYLXW4brzSP6",
        "outputId": "20da5213-828c-4363-ea34-8da60c6aabac"
      },
      "execution_count": null,
      "outputs": [
        {
          "output_type": "stream",
          "name": "stdout",
          "text": [
            "['rolf', 'randy']\n"
          ]
        }
      ]
    },
    {
      "cell_type": "markdown",
      "source": [
        "# Using lambda function with filter"
      ],
      "metadata": {
        "id": "wawMqHkQUMEq"
      }
    },
    {
      "cell_type": "code",
      "source": [
        "def custom_filter(function, friends):\n",
        "  for i in friends:\n",
        "    if function(i):\n",
        "      yield i\n",
        "\n",
        "start_with_r_lambda = custom_filter(lambda friend:friend.startswith('r'),friends)\n",
        "print(list(start_with_r_lambda))"
      ],
      "metadata": {
        "colab": {
          "base_uri": "https://localhost:8080/"
        },
        "id": "pwFORI6MURGD",
        "outputId": "b14efb39-448e-45f6-f4f5-5a155afb0e40"
      },
      "execution_count": null,
      "outputs": [
        {
          "output_type": "stream",
          "name": "stdout",
          "text": [
            "['rolf', 'randy']\n"
          ]
        }
      ]
    },
    {
      "cell_type": "markdown",
      "source": [
        "# Map"
      ],
      "metadata": {
        "id": "S-SIAzjuXinM"
      }
    },
    {
      "cell_type": "code",
      "source": [
        "friends_lower = map(lambda friend:friend.lower(), friends)\n",
        "print(next(friends_lower))\n",
        "print(next(friends_lower))"
      ],
      "metadata": {
        "colab": {
          "base_uri": "https://localhost:8080/"
        },
        "id": "Sj7aW-uMXmJF",
        "outputId": "5bcab307-5d96-4519-df8b-a0ea0a5bf26d"
      },
      "execution_count": null,
      "outputs": [
        {
          "output_type": "stream",
          "name": "stdout",
          "text": [
            "rolf\n",
            "randy\n"
          ]
        }
      ]
    },
    {
      "cell_type": "markdown",
      "source": [
        "# any() "
      ],
      "metadata": {
        "id": "6B1ebNweaNPK"
      }
    },
    {
      "cell_type": "code",
      "source": [
        "friendd = [\n",
        "    {\n",
        "    'name' : 'san',\n",
        "    'location' : 'berlin'\n",
        "     },\n",
        "\n",
        "{\n",
        "    'name' : 'sam',\n",
        " 'location' : 'states'\n",
        "}]\n",
        "\n",
        "friendloc = [friend for friend in friendd if friend['location'] == 'berlin']\n",
        "if any(friendloc):\n",
        "  print('someone is nearby')"
      ],
      "metadata": {
        "colab": {
          "base_uri": "https://localhost:8080/"
        },
        "id": "EpJwVnxraQzB",
        "outputId": "1947544e-0b02-4d60-fa4f-59865ce22fd7"
      },
      "execution_count": null,
      "outputs": [
        {
          "output_type": "stream",
          "name": "stdout",
          "text": [
            "someone is nearby\n"
          ]
        }
      ]
    },
    {
      "cell_type": "markdown",
      "source": [
        "# All()"
      ],
      "metadata": {
        "id": "LpkzCYdZccQe"
      }
    },
    {
      "cell_type": "code",
      "source": [
        "print(all([0,1,2,3,4,5]))\n",
        "print(all([1,2,3,4,5]))\n"
      ],
      "metadata": {
        "colab": {
          "base_uri": "https://localhost:8080/"
        },
        "id": "Z8MefpzGcg5W",
        "outputId": "f7543b1e-6b01-4a14-fd37-054fcdc0657b"
      },
      "execution_count": null,
      "outputs": [
        {
          "output_type": "stream",
          "name": "stdout",
          "text": [
            "False\n",
            "True\n"
          ]
        }
      ]
    },
    {
      "cell_type": "markdown",
      "source": [
        "# Mutability"
      ],
      "metadata": {
        "id": "WdAt0mtDe1Mo"
      }
    },
    {
      "cell_type": "code",
      "source": [
        "\"\"\" \n",
        "Immutables\n",
        "Strings, tuples, float, integers\n",
        "\n",
        "mutables\n",
        "list, dict\n",
        "\"\"\"\n",
        "int1 = 5\n",
        "print(id(int1))\n",
        "\n",
        "int1 = int1 + 1\n",
        "print(id(int1))\n",
        "\n",
        "dict1 = {'name': 'ronaldo', 'position': 'striker'}\n",
        "print(id(dict1))\n",
        "\n",
        "dict1['country'] = 'brazil'\n",
        "print(dict1)\n",
        "print(id(dict1))\n",
        "print(type(dict1))"
      ],
      "metadata": {
        "colab": {
          "base_uri": "https://localhost:8080/"
        },
        "id": "1vuTrJO-e53C",
        "outputId": "0a9332d6-b260-4f2f-f95e-e59e9cffd7b2"
      },
      "execution_count": null,
      "outputs": [
        {
          "output_type": "stream",
          "name": "stdout",
          "text": [
            "11122720\n",
            "11122752\n",
            "140528927082208\n",
            "{'name': 'ronaldo', 'position': 'striker', 'country': 'brazil'}\n",
            "140528927082208\n",
            "<class 'dict'>\n"
          ]
        }
      ]
    },
    {
      "cell_type": "markdown",
      "source": [
        "# Function parameter unpacking"
      ],
      "metadata": {
        "id": "HhdTTZ-y6zrn"
      }
    },
    {
      "cell_type": "code",
      "source": [
        "def average(*args):\n",
        "  return sum(args)/len(args)\n",
        "\n",
        "grades = [10,20,20,30,40,50]\n",
        "\n",
        "average(*grades)"
      ],
      "metadata": {
        "colab": {
          "base_uri": "https://localhost:8080/"
        },
        "id": "JGm2iSAC68Sn",
        "outputId": "c3f5a94e-0678-4b25-f9d0-fe263dfd307c"
      },
      "execution_count": null,
      "outputs": [
        {
          "output_type": "execute_result",
          "data": {
            "text/plain": [
              "28.333333333333332"
            ]
          },
          "metadata": {},
          "execution_count": 2
        }
      ]
    },
    {
      "cell_type": "markdown",
      "source": [
        "# uNPACKING SEQUENCE"
      ],
      "metadata": {
        "id": "EELVvWw2E-ZD"
      }
    },
    {
      "cell_type": "code",
      "source": [
        "tup = ('san', [10,20,30])\n",
        "name, grades = tup\n",
        "\n",
        "print(f'{name} has scored {grades[0]}, {grades[1]}, {grades[2]} grades.')"
      ],
      "metadata": {
        "colab": {
          "base_uri": "https://localhost:8080/"
        },
        "id": "Cmzb3ahlFCry",
        "outputId": "5f9897c1-9f1d-4f19-917d-1b470324a115"
      },
      "execution_count": null,
      "outputs": [
        {
          "output_type": "stream",
          "name": "stdout",
          "text": [
            "san has scored 10, 20, 30 grades.\n"
          ]
        }
      ]
    },
    {
      "cell_type": "markdown",
      "source": [
        "# Reduce"
      ],
      "metadata": {
        "id": "NzgjXhEuKkG6"
      }
    },
    {
      "cell_type": "code",
      "source": [
        "from functools import reduce\n",
        "print(reduce(lambda x,y: x+y, [1,2,3,4,5]))\n"
      ],
      "metadata": {
        "colab": {
          "base_uri": "https://localhost:8080/"
        },
        "id": "ogt3QDCmKnDT",
        "outputId": "b420788f-f246-4f17-8ae5-e613a4d7171f"
      },
      "execution_count": null,
      "outputs": [
        {
          "output_type": "stream",
          "name": "stdout",
          "text": [
            "15\n"
          ]
        }
      ]
    },
    {
      "cell_type": "markdown",
      "source": [
        "# **Counter**"
      ],
      "metadata": {
        "id": "F0KzyeTpOXeC"
      }
    },
    {
      "cell_type": "code",
      "source": [
        "from collections import Counter\n",
        "text = 'this is a simple text with several words'\n",
        "counter = Counter(text.split())\n",
        "\n",
        "\n",
        "for word, count in sorted(counter.items()):\n",
        "  print(f'the word \"{word}\" has occured:{count} instance.')"
      ],
      "metadata": {
        "colab": {
          "base_uri": "https://localhost:8080/"
        },
        "id": "5cWRocRjOaXx",
        "outputId": "8e5186a2-4c3b-4c8c-b041-6cf34d2a8aa6"
      },
      "execution_count": null,
      "outputs": [
        {
          "output_type": "stream",
          "name": "stdout",
          "text": [
            "the word \"a\" has occured:1 instance.\n",
            "the word \"is\" has occured:1 instance.\n",
            "the word \"several\" has occured:1 instance.\n",
            "the word \"simple\" has occured:1 instance.\n",
            "the word \"text\" has occured:1 instance.\n",
            "the word \"this\" has occured:1 instance.\n",
            "the word \"with\" has occured:1 instance.\n",
            "the word \"words\" has occured:1 instance.\n"
          ]
        }
      ]
    },
    {
      "cell_type": "markdown",
      "source": [
        "# Lists as Queues"
      ],
      "metadata": {
        "id": "JvLyIoqsZ1UK"
      }
    },
    {
      "cell_type": "code",
      "source": [
        "from collections import deque\n",
        "queue = deque(['Eric','john','micheal'])\n",
        "queue.append('san')\n",
        "queue.append('phil')\n",
        "queue\n",
        "\n",
        "print(queue.popleft())\n",
        "queue\n",
        "queue.rotate()\n",
        "queue"
      ],
      "metadata": {
        "colab": {
          "base_uri": "https://localhost:8080/"
        },
        "id": "oNjzS4VwZ4Mn",
        "outputId": "30912f92-680e-4cb6-84ae-8d7857d3922d"
      },
      "execution_count": 5,
      "outputs": [
        {
          "output_type": "stream",
          "name": "stdout",
          "text": [
            "Eric\n"
          ]
        },
        {
          "output_type": "execute_result",
          "data": {
            "text/plain": [
              "deque(['phil', 'john', 'micheal', 'san'])"
            ]
          },
          "metadata": {},
          "execution_count": 5
        }
      ]
    },
    {
      "cell_type": "markdown",
      "source": [
        "# String formatting"
      ],
      "metadata": {
        "id": "yqZOx8500SJ4"
      }
    },
    {
      "cell_type": "code",
      "source": [
        "name = \"san\"\n",
        "print(f\"He said his name is {name!r}.\") #calls repr\n",
        "print(f\"He said his name is {name!s}.\") #calls str\n",
        "print(f\"He said his name is {name!a}.\") #calls ascii\n",
        "\"line = The mill's closed   \"\n",
        "f\"{line !r:100}\"\n"
      ],
      "metadata": {
        "colab": {
          "base_uri": "https://localhost:8080/",
          "height": 87
        },
        "id": "lAlKHGHw0sT5",
        "outputId": "69755f6e-6fd8-4895-c87f-5ee2f1464e85"
      },
      "execution_count": 28,
      "outputs": [
        {
          "output_type": "stream",
          "name": "stdout",
          "text": [
            "He said his name is 'san'.\n",
            "He said his name is san.\n",
            "He said his name is 'san'.\n"
          ]
        },
        {
          "output_type": "execute_result",
          "data": {
            "text/plain": [
              "'\"arsenal has won 14 league\\'s title\"                                                                 '"
            ],
            "application/vnd.google.colaboratory.intrinsic+json": {
              "type": "string"
            }
          },
          "metadata": {},
          "execution_count": 28
        }
      ]
    },
    {
      "cell_type": "markdown",
      "source": [
        "# standard type hierarchy"
      ],
      "metadata": {
        "id": "GqFL0xLBUmi7"
      }
    },
    {
      "cell_type": "code",
      "source": [
        "#None -> absence of value\n",
        "#NotImplemented -> Numeric methods and rich comparison methods should return this value if they do not implement the operation for the operands provided. \n",
        "#elipsis\n",
        "\n",
        "l=[..., 1,2,3]\n",
        "print(l)\n",
        "\n",
        "#Number -> int, bool, float, real, complex\n",
        "#sequence: immutable -> string, tuple, bytes #mutable -> list, bytearray\n",
        "#set -> unordered, finite sets of unique, immutable objects\n",
        "# 1. Sets -> mutable set\n",
        "# 2. Frozen sets -> immutable set\n",
        "\n",
        "#Mappings -> Dictionaries : mutable\n",
        "\n"
      ],
      "metadata": {
        "colab": {
          "base_uri": "https://localhost:8080/"
        },
        "id": "rwJ3dye8UrRE",
        "outputId": "d0c29d59-5340-41bd-eeef-b059c5e4ff59"
      },
      "execution_count": 29,
      "outputs": [
        {
          "output_type": "stream",
          "name": "stdout",
          "text": [
            "[Ellipsis, 1, 2, 3]\n"
          ]
        }
      ]
    },
    {
      "cell_type": "markdown",
      "source": [
        "# Special attributes"
      ],
      "metadata": {
        "id": "hKr_uIuHvZkc"
      }
    },
    {
      "cell_type": "code",
      "source": [
        "def test(*name):\n",
        "  \"\"\"\n",
        "  this is a docstring\n",
        "  \"\"\"\n",
        "  return name\n",
        "\n",
        "test.__doc__\n",
        "test.__name__\n",
        "test.__qualname__\n",
        "test.__module__\n",
        "test.__defaults__\n",
        "test.__globals__ #A reference to the dictionary that holds the function’s global variables\n",
        "test.__dict__\n",
        "test.__closure__ # need clarifictions\n",
        "test.__call__('san')\n",
        "test.__le__('length') # less than equal to\n",
        "\n",
        "#bases\n",
        "class Parent:\n",
        "    pass\n",
        "class Person:\n",
        "    pass\n",
        "class Child(Parent, Person):\n",
        "    pass\n",
        "print(Child.__bases__)\n",
        "\n",
        "#annotations\n",
        "\n",
        "def save(x: \"starting capital\",\n",
        "         y: \"annual return (e.g., 0.1 == 10%)\",\n",
        "         n: \"number of years\"):\n",
        "  return x * (1+y)**n\n",
        "\n",
        "print(save.__annotations__)\n",
        "\n",
        "#dunder chear sheet: https://blog.finxter.com/python-dunder-methods-cheat-sheet/"
      ],
      "metadata": {
        "colab": {
          "base_uri": "https://localhost:8080/"
        },
        "id": "EZwXJ_a3vd32",
        "outputId": "431a4aae-c355-4a55-9a4f-bf326941bc55"
      },
      "execution_count": 2,
      "outputs": [
        {
          "output_type": "stream",
          "name": "stdout",
          "text": [
            "(<class '__main__.Parent'>, <class '__main__.Person'>)\n",
            "{'x': 'starting capital', 'y': 'annual return (e.g., 0.1 == 10%)', 'n': 'number of years'}\n"
          ]
        }
      ]
    }
  ]
}