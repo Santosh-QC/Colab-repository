{
  "nbformat": 4,
  "nbformat_minor": 0,
  "metadata": {
    "colab": {
      "provenance": [],
      "collapsed_sections": [],
      "toc_visible": true,
      "authorship_tag": "ABX9TyOMKFr6LODleFO6gT839xaX",
      "include_colab_link": true
    },
    "kernelspec": {
      "name": "python3",
      "display_name": "Python 3"
    },
    "language_info": {
      "name": "python"
    }
  },
  "cells": [
    {
      "cell_type": "markdown",
      "metadata": {
        "id": "view-in-github",
        "colab_type": "text"
      },
      "source": [
        "<a href=\"https://colab.research.google.com/github/Santosh-QC/Colab-repository/blob/main/python_misc.ipynb\" target=\"_parent\"><img src=\"https://colab.research.google.com/assets/colab-badge.svg\" alt=\"Open In Colab\"/></a>"
      ]
    },
    {
      "cell_type": "markdown",
      "source": [
        "# Destructuring syntax"
      ],
      "metadata": {
        "id": "vzxxAFh4gC3v"
      }
    },
    {
      "cell_type": "code",
      "source": [
        "season = [('jan', 'cold'), ('feb', 'cold'), ('march', 'spring'), ('apr', 'hot'), ('may','hot'), ('june','hot')]\n",
        "for k,v in season:\n",
        "  print(f\"it's {k} and it's {v}\")"
      ],
      "metadata": {
        "colab": {
          "base_uri": "https://localhost:8080/"
        },
        "id": "bynwmnMHgVdb",
        "outputId": "f438b303-e28f-4563-df25-176da7c012ea"
      },
      "execution_count": null,
      "outputs": [
        {
          "output_type": "stream",
          "name": "stdout",
          "text": [
            "it's jan and it's cold\n",
            "it's feb and it's cold\n",
            "it's march and it's spring\n",
            "it's apr and it's hot\n",
            "it's may and it's hot\n",
            "it's june and it's hot\n"
          ]
        }
      ]
    },
    {
      "cell_type": "markdown",
      "source": [
        "# List comprehension"
      ],
      "metadata": {
        "id": "VCIXDMX0knAU"
      }
    },
    {
      "cell_type": "code",
      "source": [
        "friends = ['ram', 'andy', 'mat', 'pitbulla', 'rosicky']\n",
        "guests = ['RAM', 'MAT', 'SHyam', 'DHONI']\n",
        "\n",
        "friend_list = [people for people in guests if people.lower() in friends]\n",
        "print(friend_list)"
      ],
      "metadata": {
        "colab": {
          "base_uri": "https://localhost:8080/"
        },
        "id": "_ojK3J3Vkq7z",
        "outputId": "3125024c-a173-4964-8c4d-fa51c0d5c2be"
      },
      "execution_count": null,
      "outputs": [
        {
          "output_type": "stream",
          "name": "stdout",
          "text": [
            "['RAM', 'MAT']\n"
          ]
        }
      ]
    },
    {
      "cell_type": "markdown",
      "source": [
        "# Set and Dictionary comprehension"
      ],
      "metadata": {
        "id": "qmcuOVQEqHwe"
      }
    },
    {
      "cell_type": "code",
      "source": [
        "friends = ['ram', 'andy', 'mat', 'pitbulla', 'rosicky']\n",
        "guests = ['RAM', 'MAT', 'SHyam', 'DHONI']\n",
        "\n",
        "friends_lower = {f.lower() for f in friends}\n",
        "guests_lower = {g.lower() for g in guests}\n",
        "\n",
        "present_friends = guests_lower.intersection(friends_lower)\n",
        "present_friends = {friend.title() for friend in present_friends}\n",
        "\n",
        "print(present_friends)\n",
        "\n"
      ],
      "metadata": {
        "colab": {
          "base_uri": "https://localhost:8080/"
        },
        "id": "yV_ETEfmstcr",
        "outputId": "b5262daf-59a7-408d-cfe6-dacd7bbdc590"
      },
      "execution_count": null,
      "outputs": [
        {
          "output_type": "stream",
          "name": "stdout",
          "text": [
            "{'Mat', 'Ram'}\n"
          ]
        }
      ]
    },
    {
      "cell_type": "code",
      "source": [
        "friends = ['ram', 'andy', 'mat', 'pitbulla', 'rosicky']\n",
        "years = [1,10,12,10,5]\n",
        "\n",
        "timers = {friends[i]:years[i] for i in range(len(friends))}\n",
        "print(timers)\n",
        "\n",
        "\n"
      ],
      "metadata": {
        "colab": {
          "base_uri": "https://localhost:8080/"
        },
        "id": "TbxI0JjPu5p0",
        "outputId": "3146eb58-a086-466a-9999-0fdd9186ea3d"
      },
      "execution_count": null,
      "outputs": [
        {
          "output_type": "stream",
          "name": "stdout",
          "text": [
            "{'ram': 1, 'andy': 10, 'mat': 12, 'pitbulla': 10, 'rosicky': 5}\n"
          ]
        }
      ]
    },
    {
      "cell_type": "markdown",
      "source": [
        "# Zip"
      ],
      "metadata": {
        "id": "Y9dY4CbJww1A"
      }
    },
    {
      "cell_type": "code",
      "source": [
        "friends = ['ram', 'andy', 'mat', 'pitbulla', 'rosicky']\n",
        "years = [1,10,12,10,5]\n",
        "\n",
        "dict_ = dict(zip(friends, years))\n",
        "\n",
        "list_ = list(zip(friends, years))\n",
        "\n",
        "print(dict_)\n",
        "print(list_)"
      ],
      "metadata": {
        "colab": {
          "base_uri": "https://localhost:8080/"
        },
        "id": "AGpSGR2vw0lo",
        "outputId": "2fc6e69f-5c6d-46b8-ece5-979675a93053"
      },
      "execution_count": null,
      "outputs": [
        {
          "output_type": "stream",
          "name": "stdout",
          "text": [
            "{'ram': 1, 'andy': 10, 'mat': 12, 'pitbulla': 10, 'rosicky': 5}\n",
            "[('ram', 1), ('andy', 10), ('mat', 12), ('pitbulla', 10), ('rosicky', 5)]\n"
          ]
        }
      ]
    },
    {
      "cell_type": "markdown",
      "source": [
        "# Lambda function"
      ],
      "metadata": {
        "id": "3lB0Gy9kx_yE"
      }
    },
    {
      "cell_type": "code",
      "source": [
        "print((lambda x,y: x/y)(5,6))\n",
        "\n",
        "average = (lambda sequence:sum(sequence)/len(sequence))\n",
        "students = [{'name':'Ram','grades':(10,20,30,40,50)},\n",
        "            {'name':'mat','grades':(11,12,13,14,15)},\n",
        "            {'name':'pikolo','grades':(21,22,23,24,25)}\n",
        "]\n",
        "\n",
        "for student in students:\n",
        "  print(f\"average grades of {student['name']} is {average(student['grades'])}\")"
      ],
      "metadata": {
        "colab": {
          "base_uri": "https://localhost:8080/"
        },
        "id": "W8nHu1DVyD2M",
        "outputId": "048dfd5e-a5b1-48c5-d9a4-eff7ed2d0a7d"
      },
      "execution_count": null,
      "outputs": [
        {
          "output_type": "stream",
          "name": "stdout",
          "text": [
            "0.8333333333333334\n",
            "average grades of Ram is 30.0\n",
            "average grades of mat is 13.0\n",
            "average grades of pikolo is 23.0\n"
          ]
        }
      ]
    },
    {
      "cell_type": "markdown",
      "source": [
        "#Magic Methods"
      ],
      "metadata": {
        "id": "k24kYVCaLKoz"
      }
    },
    {
      "cell_type": "code",
      "source": [
        "class movies:\n",
        "  def __init__(self, name=None):\n",
        "    self.name = name\n",
        "    self.genre = []\n",
        "\n",
        "  def __len__(self):\n",
        "    return len(self.genre)\n",
        "\n",
        "  def __getitem__(self, i):\n",
        "    return self.genre[i]\n",
        "\n",
        "  def __repr__(self):\n",
        "    return f'Movies {self.name}'\n",
        "\n",
        "  def __str__(self):\n",
        "    return f'Movies : {len(self)}'\n",
        "\n",
        "movies_names = movies()\n",
        "movies_names.genre.append('Action')\n",
        "movies_names.name='Rambo'\n",
        "print(f\"{movies_names.name} is an {movies_names.genre[0]} movie.\")\n",
        "print(len(movies_names))\n",
        "print(movies_names[0])\n",
        "\n",
        "print(movies_names.__repr__())\n",
        "print(movies_names.__str__())"
      ],
      "metadata": {
        "colab": {
          "base_uri": "https://localhost:8080/"
        },
        "id": "8vuHuMD1LP0k",
        "outputId": "1617a6f9-7268-411e-9d39-17f6d6869ed1"
      },
      "execution_count": null,
      "outputs": [
        {
          "output_type": "stream",
          "name": "stdout",
          "text": [
            "Rambo is an Action movie.\n",
            "1\n",
            "Action\n",
            "Movies Rambo\n",
            "Movies : 1\n"
          ]
        }
      ]
    },
    {
      "cell_type": "markdown",
      "source": [
        "# Inheritance \n",
        "# @property Decorator"
      ],
      "metadata": {
        "id": "LckUbHJ6hJG1"
      }
    },
    {
      "cell_type": "code",
      "source": [
        "class student:\n",
        "  def __init__(self, name, school):\n",
        "    self.name = name\n",
        "    self.school = school\n",
        "    self.marks = []\n",
        "\n",
        "  def average(self):\n",
        "    return sum(self.marks)/ len(self.marks)\n",
        "\n",
        "class WorkingStudent(student):\n",
        "  def __init__(self, name, school, salary):\n",
        "    super().__init__(name, school)\n",
        "    self.salary = salary\n",
        "\n",
        "  @property\n",
        "  def weekly_salary(self):\n",
        "    return int(self.salary / 37.5)\n",
        "\n",
        "sam = WorkingStudent('sam', 'MIT', 16000)\n",
        "print(f\"{sam.name} salary is {sam.salary} and weekly salary is {sam.weekly_salary} USD.\")\n",
        "sam.marks.append(60)\n",
        "sam.marks.append(100)\n",
        "print(f\"{sam.name} marks average is {sam.average()}.\")\n",
        "    "
      ],
      "metadata": {
        "colab": {
          "base_uri": "https://localhost:8080/"
        },
        "id": "5TjCI5b3hMQG",
        "outputId": "af7fb738-3f05-4fc9-ac16-ba74065a0385"
      },
      "execution_count": null,
      "outputs": [
        {
          "output_type": "stream",
          "name": "stdout",
          "text": [
            "sam salary is 16000 and weekly salary is 426 USD.\n",
            "sam marks average is 80.0.\n"
          ]
        }
      ]
    },
    {
      "cell_type": "markdown",
      "source": [
        "# @ClassMethod\n",
        "# @StaticMethod"
      ],
      "metadata": {
        "id": "OOvcqzaBqrix"
      }
    },
    {
      "cell_type": "code",
      "source": [
        "class Foo:\n",
        "  @classmethod\n",
        "  def hi(cls):\n",
        "    print(cls.__name__)\n",
        "\n",
        "obj = Foo()\n",
        "obj.hi()\n"
      ],
      "metadata": {
        "colab": {
          "base_uri": "https://localhost:8080/"
        },
        "id": "N0I5A019q3oC",
        "outputId": "269a4e7b-e542-4755-e5a5-907e83ef9fd4"
      },
      "execution_count": null,
      "outputs": [
        {
          "output_type": "stream",
          "name": "stdout",
          "text": [
            "Foo\n"
          ]
        }
      ]
    },
    {
      "cell_type": "code",
      "source": [
        "class Bar:\n",
        "  @staticmethod\n",
        "  def text():\n",
        "    print('this function doesn\\'t take paramaters')\n",
        "\n",
        "obj1 = Bar()\n",
        "obj1.text()"
      ],
      "metadata": {
        "colab": {
          "base_uri": "https://localhost:8080/"
        },
        "id": "jxPduhirrPQ7",
        "outputId": "c12563dc-95b7-48e8-eb25-9ab4a9b9c983"
      },
      "execution_count": null,
      "outputs": [
        {
          "output_type": "stream",
          "name": "stdout",
          "text": [
            "this function doesn't take paramaters\n"
          ]
        }
      ]
    },
    {
      "cell_type": "code",
      "source": [
        "class Fixedfloat:\n",
        "  def __init__(self, amount):\n",
        "    self.amount = amount\n",
        "\n",
        "  def __repr__(self):\n",
        "    return f\"fixed float {self.amount:.2f}\"\n",
        "\n",
        "  @classmethod\n",
        "  def from_sum(cls, value1, value2):\n",
        "    return cls(value1 + value2)\n",
        "\n",
        "new = Fixedfloat.from_sum(50, 50)\n",
        "print(new)\n",
        "\n",
        "class dollar(Fixedfloat):\n",
        "  def __init__(self, amount):\n",
        "    super().__init__(amount)\n",
        "    self.symbol = '$'\n",
        "\n",
        "  def __repr__(self):\n",
        "    return f\"dollar {self.symbol} {self.amount:.2f}\"\n",
        "\n",
        "usd = dollar.from_sum(60, 100)\n",
        "print(usd)"
      ],
      "metadata": {
        "colab": {
          "base_uri": "https://localhost:8080/"
        },
        "id": "A4tcOo0Ru403",
        "outputId": "9591ad40-1644-4b7a-cbd7-294774f39fda"
      },
      "execution_count": null,
      "outputs": [
        {
          "output_type": "stream",
          "name": "stdout",
          "text": [
            "fixed float 100.00\n",
            "dollar $ 160.00\n"
          ]
        }
      ]
    },
    {
      "cell_type": "markdown",
      "source": [
        "# Context Managers\n",
        "File Operations"
      ],
      "metadata": {
        "id": "XtLoebk--ZCQ"
      }
    },
    {
      "cell_type": "code",
      "source": [
        "def save_to_file(content, filename):\n",
        "  with open(filename, 'w') as file:\n",
        "    file.write(content)\n",
        "\n",
        "def read_file(filename):\n",
        "  with open(filename, 'r') as file:\n",
        "    return file.read().split('\\n')\n",
        "\n"
      ],
      "metadata": {
        "id": "W_P4Flhp-c4g"
      },
      "execution_count": null,
      "outputs": []
    },
    {
      "cell_type": "markdown",
      "source": [
        "# Typing"
      ],
      "metadata": {
        "id": "W3uMVpjoDYrl"
      }
    },
    {
      "cell_type": "code",
      "source": [
        "from typing import *\n",
        "\n",
        "def testfunc() -> None:\n",
        "  pass\n",
        "\n",
        "def testfunc2() -> List[Dict(str, str)]:\n",
        "  pass\n",
        "#create custom typing\n",
        "customtype = List[Dict(str, str)]\n",
        "\n",
        "def testfunc3() -> customtype:\n",
        "  pass\n",
        "\n",
        "def testfunc4(name: str) -> None:\n",
        "  pass\n",
        "\n",
        "#using with class\n",
        "\n",
        "import sqlite3\n",
        "\n",
        "class databaseconnection:\n",
        "  def __init__(self, host):\n",
        "    self.host = host\n",
        "    self.conenction = None\n",
        "\n",
        "  def __enter__(self) -> sqlite3.Connection:\n",
        "    self.conenction = sqlite3.connect(self.host)\n",
        "    return self.connection\n",
        "\n",
        "  def __exit__(self, exc_type, exc_val, exc_tb):\n",
        "    if exc_type or exc_val or exc_tb:\n",
        "      self.connection.close()\n",
        "    else:\n",
        "      self.connection.commit()\n",
        "      self.connection.close()\n"
      ],
      "metadata": {
        "id": "WtkLKeZyDbu-"
      },
      "execution_count": null,
      "outputs": []
    },
    {
      "cell_type": "markdown",
      "source": [
        "# Generators"
      ],
      "metadata": {
        "id": "ahWGwDTLMwe8"
      }
    },
    {
      "cell_type": "code",
      "source": [
        "def hundered_nums():\n",
        "  i=0\n",
        "  while i < 10:\n",
        "    yield i\n",
        "    i += 0.5\n",
        "  \n",
        "g = hundered_nums()\n",
        "\n",
        "for _ in g:\n",
        "  print(next(g))"
      ],
      "metadata": {
        "colab": {
          "base_uri": "https://localhost:8080/"
        },
        "id": "ul7rDM17M0IT",
        "outputId": "610866f6-9692-4b1e-a0ca-06ea124e9a35"
      },
      "execution_count": null,
      "outputs": [
        {
          "output_type": "stream",
          "name": "stdout",
          "text": [
            "0.5\n",
            "1.5\n",
            "2.5\n",
            "3.5\n",
            "4.5\n",
            "5.5\n",
            "6.5\n",
            "7.5\n",
            "8.5\n",
            "9.5\n"
          ]
        }
      ]
    },
    {
      "cell_type": "markdown",
      "source": [
        "# Generator classes"
      ],
      "metadata": {
        "id": "PsvOiW3SX609"
      }
    },
    {
      "cell_type": "code",
      "source": [
        "class firsthundredgenerator:\n",
        "  def __init__(self):\n",
        "    self.number = 0\n",
        "    \n",
        "  def __next__(self):\n",
        "    if self.number <= 10:\n",
        "      current = self.number\n",
        "      self.number += 1;\n",
        "      return current\n",
        "    else:\n",
        "      raise StopIteration()\n",
        "\n",
        "gen = firsthundredgenerator()\n",
        "for _ in range(10):\n",
        "  print(next(gen))\n",
        "\n"
      ],
      "metadata": {
        "colab": {
          "base_uri": "https://localhost:8080/"
        },
        "id": "Qa8nm6ojX-u9",
        "outputId": "1e0c5aaf-afce-4c90-840a-7e0bdd90cd94"
      },
      "execution_count": null,
      "outputs": [
        {
          "output_type": "stream",
          "name": "stdout",
          "text": [
            "0\n",
            "1\n",
            "2\n",
            "3\n",
            "4\n",
            "5\n",
            "6\n",
            "7\n",
            "8\n",
            "9\n"
          ]
        }
      ]
    },
    {
      "cell_type": "markdown",
      "source": [
        "# Class *iterator*"
      ],
      "metadata": {
        "id": "NkRIft64cOR5"
      }
    },
    {
      "cell_type": "code",
      "source": [
        "class classiterator:\n",
        "  def __init__(self):\n",
        "    self.numbers = [1,2,3,4,5]\n",
        "    self.i = 0\n",
        "\n",
        "  def __next__(self):\n",
        "      if self.i < len(self.numbers):\n",
        "        current = self.numbers[self.i]\n",
        "        self.i += 1\n",
        "        return current\n",
        "      else:\n",
        "        raise StopIteration()\n",
        "\n",
        "citer = classiterator()\n",
        "\n",
        "while citer:\n",
        "  print(next(citer))"
      ],
      "metadata": {
        "colab": {
          "base_uri": "https://localhost:8080/",
          "height": 408
        },
        "id": "5-uL87kucSUK",
        "outputId": "ceb715fe-1346-4160-d709-51a896db5802"
      },
      "execution_count": null,
      "outputs": [
        {
          "output_type": "stream",
          "name": "stdout",
          "text": [
            "1\n",
            "2\n",
            "3\n",
            "4\n",
            "5\n"
          ]
        },
        {
          "output_type": "error",
          "ename": "StopIteration",
          "evalue": "ignored",
          "traceback": [
            "\u001b[0;31m---------------------------------------------------------------------------\u001b[0m",
            "\u001b[0;31mStopIteration\u001b[0m                             Traceback (most recent call last)",
            "\u001b[0;32m<ipython-input-23-894d0ca8cb6b>\u001b[0m in \u001b[0;36m<module>\u001b[0;34m\u001b[0m\n\u001b[1;32m     15\u001b[0m \u001b[0;34m\u001b[0m\u001b[0m\n\u001b[1;32m     16\u001b[0m \u001b[0;32mwhile\u001b[0m \u001b[0mciter\u001b[0m\u001b[0;34m:\u001b[0m\u001b[0;34m\u001b[0m\u001b[0;34m\u001b[0m\u001b[0m\n\u001b[0;32m---> 17\u001b[0;31m   \u001b[0mprint\u001b[0m\u001b[0;34m(\u001b[0m\u001b[0mnext\u001b[0m\u001b[0;34m(\u001b[0m\u001b[0mciter\u001b[0m\u001b[0;34m)\u001b[0m\u001b[0;34m)\u001b[0m\u001b[0;34m\u001b[0m\u001b[0;34m\u001b[0m\u001b[0m\n\u001b[0m",
            "\u001b[0;32m<ipython-input-23-894d0ca8cb6b>\u001b[0m in \u001b[0;36m__next__\u001b[0;34m(self)\u001b[0m\n\u001b[1;32m     10\u001b[0m         \u001b[0;32mreturn\u001b[0m \u001b[0mcurrent\u001b[0m\u001b[0;34m\u001b[0m\u001b[0;34m\u001b[0m\u001b[0m\n\u001b[1;32m     11\u001b[0m       \u001b[0;32melse\u001b[0m\u001b[0;34m:\u001b[0m\u001b[0;34m\u001b[0m\u001b[0;34m\u001b[0m\u001b[0m\n\u001b[0;32m---> 12\u001b[0;31m         \u001b[0;32mraise\u001b[0m \u001b[0mStopIteration\u001b[0m\u001b[0;34m(\u001b[0m\u001b[0;34m)\u001b[0m\u001b[0;34m\u001b[0m\u001b[0;34m\u001b[0m\u001b[0m\n\u001b[0m\u001b[1;32m     13\u001b[0m \u001b[0;34m\u001b[0m\u001b[0m\n\u001b[1;32m     14\u001b[0m \u001b[0mciter\u001b[0m \u001b[0;34m=\u001b[0m \u001b[0mclassiterator\u001b[0m\u001b[0;34m(\u001b[0m\u001b[0;34m)\u001b[0m\u001b[0;34m\u001b[0m\u001b[0;34m\u001b[0m\u001b[0m\n",
            "\u001b[0;31mStopIteration\u001b[0m: "
          ]
        }
      ]
    },
    {
      "cell_type": "markdown",
      "source": [
        "# Iterator"
      ],
      "metadata": {
        "id": "hXNe2-sC0hpC"
      }
    },
    {
      "cell_type": "code",
      "source": [
        "class classiterator:\n",
        "  def __init__(self):\n",
        "    self.number = 0\n",
        "    \n",
        "  def __next__(self):\n",
        "    if self.number <= 10:\n",
        "      current = self.number\n",
        "      self.number += 1;\n",
        "      return current\n",
        "    else:\n",
        "      raise StopIteration()\n",
        "\n",
        "class iterator:\n",
        "  def __iter__(self):\n",
        "    return classiterator()\n",
        "\n",
        "print(f\"sum is : {sum(iterator())}\")\n",
        "for i in iterator():\n",
        "  print(i)"
      ],
      "metadata": {
        "colab": {
          "base_uri": "https://localhost:8080/"
        },
        "id": "4olUUauJ0l2i",
        "outputId": "2905122f-caec-4b14-8457-d14fa451e056"
      },
      "execution_count": null,
      "outputs": [
        {
          "output_type": "stream",
          "name": "stdout",
          "text": [
            "sum is : 55\n",
            "0\n",
            "1\n",
            "2\n",
            "3\n",
            "4\n",
            "5\n",
            "6\n",
            "7\n",
            "8\n",
            "9\n",
            "10\n"
          ]
        }
      ]
    },
    {
      "cell_type": "markdown",
      "source": [
        "# Iterator without class"
      ],
      "metadata": {
        "id": "5Wtq3vekOrn_"
      }
    },
    {
      "cell_type": "code",
      "source": [
        "class classiterator:\n",
        "  def __init__(self):\n",
        "    self.number = 0\n",
        "    \n",
        "  def __next__(self):\n",
        "    if self.number <= 10:\n",
        "      current = self.number\n",
        "      self.number += 1;\n",
        "      return current\n",
        "    else:\n",
        "      raise StopIteration()\n",
        "\n",
        "  def __iter__(self):\n",
        "    return self\n",
        "\n",
        "print(f\"sum is : {sum(classiterator())}\")\n",
        "for i in classiterator():\n",
        "  print(i)"
      ],
      "metadata": {
        "colab": {
          "base_uri": "https://localhost:8080/"
        },
        "id": "FDtesY1lOvUA",
        "outputId": "03a04bc3-4d44-44cc-d8fd-4e897a101ca3"
      },
      "execution_count": 4,
      "outputs": [
        {
          "output_type": "stream",
          "name": "stdout",
          "text": [
            "sum is : 55\n",
            "0\n",
            "1\n",
            "2\n",
            "3\n",
            "4\n",
            "5\n",
            "6\n",
            "7\n",
            "8\n",
            "9\n",
            "10\n"
          ]
        }
      ]
    }
  ]
}