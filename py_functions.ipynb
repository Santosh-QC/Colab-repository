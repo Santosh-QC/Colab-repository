{
  "nbformat": 4,
  "nbformat_minor": 0,
  "metadata": {
    "colab": {
      "provenance": [],
      "toc_visible": true,
      "authorship_tag": "ABX9TyN2rNhu1hX+NsJHS3u6z7xd",
      "include_colab_link": true
    },
    "kernelspec": {
      "name": "python3",
      "display_name": "Python 3"
    },
    "language_info": {
      "name": "python"
    }
  },
  "cells": [
    {
      "cell_type": "markdown",
      "metadata": {
        "id": "view-in-github",
        "colab_type": "text"
      },
      "source": [
        "<a href=\"https://colab.research.google.com/github/Santosh-QC/Colab-repository/blob/main/py_functions.ipynb\" target=\"_parent\"><img src=\"https://colab.research.google.com/assets/colab-badge.svg\" alt=\"Open In Colab\"/></a>"
      ]
    },
    {
      "cell_type": "code",
      "execution_count": 15,
      "metadata": {
        "id": "igZJ302_s1Ki",
        "colab": {
          "base_uri": "https://localhost:8080/"
        },
        "outputId": "ad8f50d7-fee0-48a4-fe01-b1af241043c5"
      },
      "outputs": [
        {
          "output_type": "stream",
          "name": "stdout",
          "text": [
            "2 is greater than 1\n"
          ]
        }
      ],
      "source": [
        "def add(x,y):\n",
        "  if x < y:\n",
        "    print(f\"{y} is greater than {x}\")\n",
        "  else:\n",
        "    print(f\"{x} is greater than {y}\")\n",
        "\n",
        "a = 1\n",
        "b = 2\n",
        "\n",
        "add(x=b, y=a)"
      ]
    },
    {
      "cell_type": "markdown",
      "source": [
        "####decorators and generators"
      ],
      "metadata": {
        "id": "_zzH_D-f7U_s"
      }
    },
    {
      "cell_type": "code",
      "source": [
        "def random():\n",
        "  \"generate random elemens\"\n",
        "  import random\n",
        "  month = {'month1': 'jan', 'month2':'feb', 'month3':'mar', 'month4':'apr', 'month5':'may', 'month6':'june', 'month7':'jul', 'month8':'aug', 'month9':'sept'}\n",
        "  while True:\n",
        "    random_month = random.choices(list(month.values()))\n",
        "    yield random_month\n",
        "\n",
        "ittt = (i for i in random())\n",
        "next(ittt)"
      ],
      "metadata": {
        "id": "-CgVNuik9pVy",
        "outputId": "ca048ea0-f7e8-4738-a883-bc05f2b0ef90",
        "colab": {
          "base_uri": "https://localhost:8080/"
        }
      },
      "execution_count": 26,
      "outputs": [
        {
          "output_type": "execute_result",
          "data": {
            "text/plain": [
              "['sept']"
            ]
          },
          "metadata": {},
          "execution_count": 26
        }
      ]
    }
  ]
}