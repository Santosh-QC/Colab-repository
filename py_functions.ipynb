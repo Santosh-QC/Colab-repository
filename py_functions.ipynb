{
  "nbformat": 4,
  "nbformat_minor": 0,
  "metadata": {
    "colab": {
      "provenance": [],
      "toc_visible": true,
      "authorship_tag": "ABX9TyO4/4PCjEnK6ECz2T7iWbRt",
      "include_colab_link": true
    },
    "kernelspec": {
      "name": "python3",
      "display_name": "Python 3"
    },
    "language_info": {
      "name": "python"
    }
  },
  "cells": [
    {
      "cell_type": "markdown",
      "metadata": {
        "id": "view-in-github",
        "colab_type": "text"
      },
      "source": [
        "<a href=\"https://colab.research.google.com/github/Santosh-QC/Colab-repository/blob/main/py_functions.ipynb\" target=\"_parent\"><img src=\"https://colab.research.google.com/assets/colab-badge.svg\" alt=\"Open In Colab\"/></a>"
      ]
    },
    {
      "cell_type": "code",
      "execution_count": 15,
      "metadata": {
        "id": "igZJ302_s1Ki",
        "colab": {
          "base_uri": "https://localhost:8080/"
        },
        "outputId": "ad8f50d7-fee0-48a4-fe01-b1af241043c5"
      },
      "outputs": [
        {
          "output_type": "stream",
          "name": "stdout",
          "text": [
            "2 is greater than 1\n"
          ]
        }
      ],
      "source": [
        "def add(x,y):\n",
        "  if x < y:\n",
        "    print(f\"{y} is greater than {x}\")\n",
        "  else:\n",
        "    print(f\"{x} is greater than {y}\")\n",
        "\n",
        "a = 1\n",
        "b = 2\n",
        "\n",
        "add(x=b, y=a)"
      ]
    },
    {
      "cell_type": "markdown",
      "source": [
        "####Generators"
      ],
      "metadata": {
        "id": "_zzH_D-f7U_s"
      }
    },
    {
      "cell_type": "code",
      "source": [
        "def random():\n",
        "  \"generate random elemens\"\n",
        "  import random\n",
        "  month = {'month1': 'jan', 'month2':'feb', 'month3':'mar', 'month4':'apr', 'month5':'may', 'month6':'june', 'month7':'jul', 'month8':'aug', 'month9':'sept'}\n",
        "  while True:\n",
        "    random_month = random.choices(list(month.values()))\n",
        "    yield random_month\n",
        "\n",
        "ittt = (i for i in random())\n",
        "next(ittt)"
      ],
      "metadata": {
        "colab": {
          "base_uri": "https://localhost:8080/"
        },
        "id": "-CgVNuik9pVy",
        "outputId": "ca048ea0-f7e8-4738-a883-bc05f2b0ef90"
      },
      "execution_count": 26,
      "outputs": [
        {
          "output_type": "execute_result",
          "data": {
            "text/plain": [
              "['sept']"
            ]
          },
          "metadata": {},
          "execution_count": 26
        }
      ]
    },
    {
      "cell_type": "markdown",
      "source": [
        "####Decorators"
      ],
      "metadata": {
        "id": "xQNCd1GrCZu4"
      }
    },
    {
      "cell_type": "code",
      "source": [
        "def random_decorator(function):\n",
        "  \"adding time lapse\"\n",
        "  import time\n",
        "  import random\n",
        "  def wrapper_func(*args, **kwargs):\n",
        "    sleeptime = random.randint(0,3)\n",
        "    print(f\"Next after {sleeptime} seconds\")\n",
        "    time.sleep(sleeptime)\n",
        "    return function(*args, **kwargs)\n",
        "  return wrapper_func\n",
        "\n",
        "\n",
        "\n",
        "@random_decorator\n",
        "def random():\n",
        "  \"generate random elemens\"\n",
        "  import random\n",
        "  month = {'month1': 'jan', 'month2':'feb', 'month3':'mar', 'month4':'apr', 'month5':'may', 'month6':'june', 'month7':'jul', 'month8':'aug', 'month9':'sept'}\n",
        "  while True:\n",
        "    random_month = random.choices(list(month.values()))\n",
        "    yield random_month\n",
        "\n",
        "ittt = (i for i in random())\n",
        "\n",
        "for _ in range(10):\n",
        "  print(next(random()))\n",
        "\n",
        "\n"
      ],
      "metadata": {
        "colab": {
          "base_uri": "https://localhost:8080/"
        },
        "id": "3jKwiWsTCdQS",
        "outputId": "ccdb5c68-6db9-455a-d006-e848123700e9"
      },
      "execution_count": 4,
      "outputs": [
        {
          "output_type": "stream",
          "name": "stdout",
          "text": [
            "Next after 3 seconds\n",
            "Next after 0 seconds\n",
            "['mar']\n",
            "Next after 2 seconds\n",
            "['mar']\n",
            "Next after 1 seconds\n",
            "['feb']\n",
            "Next after 0 seconds\n",
            "['jan']\n",
            "Next after 1 seconds\n",
            "['jan']\n",
            "Next after 1 seconds\n",
            "['jan']\n",
            "Next after 0 seconds\n",
            "['sept']\n",
            "Next after 0 seconds\n",
            "['aug']\n",
            "Next after 3 seconds\n",
            "['jul']\n",
            "Next after 1 seconds\n",
            "['aug']\n"
          ]
        }
      ]
    },
    {
      "cell_type": "markdown",
      "source": [
        "####Args and Kwargs"
      ],
      "metadata": {
        "id": "-mMRPuJQJ92Q"
      }
    },
    {
      "cell_type": "code",
      "source": [
        "def argss(*args):\n",
        "  print(f\"You passed in {len(args)} elements\")\n",
        "  for arg in args:\n",
        "    return arg\n",
        "\n",
        "argss(\"my name is python\")"
      ],
      "metadata": {
        "id": "iCLjIoXdKBbf",
        "outputId": "2b8329bf-4a55-4def-d33d-60cebda19d55",
        "colab": {
          "base_uri": "https://localhost:8080/",
          "height": 53
        }
      },
      "execution_count": 8,
      "outputs": [
        {
          "output_type": "stream",
          "name": "stdout",
          "text": [
            "You passed in 1 elements\n"
          ]
        },
        {
          "output_type": "execute_result",
          "data": {
            "text/plain": [
              "'my name is python'"
            ],
            "application/vnd.google.colaboratory.intrinsic+json": {
              "type": "string"
            }
          },
          "metadata": {},
          "execution_count": 8
        }
      ]
    },
    {
      "cell_type": "code",
      "source": [
        "def kwarg(**kwargs):\n",
        "  for key,value in kwargs.items():\n",
        "    print(f\"key is {key} : corresponding value is {value}\")\n",
        "\n",
        "kwarg(x=1,y=2)"
      ],
      "metadata": {
        "id": "vlmHXgxnK2i6",
        "outputId": "8e5443c8-5e96-4961-d333-3166df2fa5dd",
        "colab": {
          "base_uri": "https://localhost:8080/"
        }
      },
      "execution_count": 11,
      "outputs": [
        {
          "output_type": "stream",
          "name": "stdout",
          "text": [
            "key is x : corresponding value is 1\n",
            "key is y : corresponding value is 2\n"
          ]
        }
      ]
    }
  ]
}