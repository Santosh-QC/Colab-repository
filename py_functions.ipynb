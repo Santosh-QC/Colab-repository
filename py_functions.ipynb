{
  "nbformat": 4,
  "nbformat_minor": 0,
  "metadata": {
    "colab": {
      "provenance": [],
      "toc_visible": true,
      "authorship_tag": "ABX9TyN1LQLNSIZ0ORc2Gkhvn0am",
      "include_colab_link": true
    },
    "kernelspec": {
      "name": "python3",
      "display_name": "Python 3"
    },
    "language_info": {
      "name": "python"
    }
  },
  "cells": [
    {
      "cell_type": "markdown",
      "metadata": {
        "id": "view-in-github",
        "colab_type": "text"
      },
      "source": [
        "<a href=\"https://colab.research.google.com/github/Santosh-QC/Colab-repository/blob/main/py_functions.ipynb\" target=\"_parent\"><img src=\"https://colab.research.google.com/assets/colab-badge.svg\" alt=\"Open In Colab\"/></a>"
      ]
    },
    {
      "cell_type": "code",
      "execution_count": 15,
      "metadata": {
        "id": "igZJ302_s1Ki",
        "colab": {
          "base_uri": "https://localhost:8080/"
        },
        "outputId": "ad8f50d7-fee0-48a4-fe01-b1af241043c5"
      },
      "outputs": [
        {
          "output_type": "stream",
          "name": "stdout",
          "text": [
            "2 is greater than 1\n"
          ]
        }
      ],
      "source": [
        "def add(x,y):\n",
        "  if x < y:\n",
        "    print(f\"{y} is greater than {x}\")\n",
        "  else:\n",
        "    print(f\"{x} is greater than {y}\")\n",
        "\n",
        "a = 1\n",
        "b = 2\n",
        "\n",
        "add(x=b, y=a)"
      ]
    },
    {
      "cell_type": "code",
      "source": [],
      "metadata": {
        "id": "4iG-bA7m4pB1"
      },
      "execution_count": 9,
      "outputs": []
    }
  ]
}